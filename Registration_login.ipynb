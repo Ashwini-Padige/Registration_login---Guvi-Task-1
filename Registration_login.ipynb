{
  "cells": [
    {
      "cell_type": "markdown",
      "metadata": {
        "id": "view-in-github",
        "colab_type": "text"
      },
      "source": [
        "<a href=\"https://colab.research.google.com/github/Ashwini-Padige/Registration_login---Guvi-Task-1/blob/main/Registration_login.ipynb\" target=\"_parent\"><img src=\"https://colab.research.google.com/assets/colab-badge.svg\" alt=\"Open In Colab\"/></a>"
      ]
    },
    {
      "cell_type": "code",
      "execution_count": null,
      "metadata": {
        "colab": {
          "base_uri": "https://localhost:8080/"
        },
        "id": "8urumjPTCcB7",
        "outputId": "2f16b79a-637b-4f52-8704-59713078b982"
      },
      "outputs": [
        {
          "name": "stdout",
          "output_type": "stream",
          "text": [
            "enter 1 for Registration \n",
            " \t2 for login: \n",
            "1\n"
          ]
        }
      ],
      "source": [
        "import re\n",
        "import csv\n",
        "import shutil\n",
        "\n",
        "def Registration():\n",
        "    while True:\n",
        "      email_input=input(\"enter ur email id: \\n \\temail/username should have @ and followed by .\\n \\tthere should not be any . immediate next to @ \\n \\tit should not start with special characters and numbers \\n\")\n",
        "      email_condition=\"[^(!~$#&\\d)]+[\\w!~$#&]+@[\\w!~$#&]+\\.[\\w!~$#&*?]\"\n",
        "      if re.match(email_condition,email_input): \n",
        "            print(\"valid email id\") \n",
        "            break        \n",
        "      else:\n",
        "        print(\"not valid,please enter a valid email id\") \n",
        "        continue\n",
        "     #----------------------------------------------------------\n",
        "    while True:\n",
        "      password_input=input(\"enter pwd:\\n \\tpassword length must be 5-16 \\n \\tMust have minimum one special character,digit,uppercase, lowercase character \\n\")\n",
        "      reg = \"^(?=.*[a-z])(?=.*[A-Z])(?=.*\\d)(?=.*[@$!%*#?&])[A-Za-z\\d@$!#%*?&]{5,16}$\"\n",
        "      if re.fullmatch(reg,password_input):\n",
        "        print(\"valid pwd\")\n",
        "        break\n",
        "      else:\n",
        "        print(\"not valid, please enter a valid password\")\n",
        "        continue\n",
        "    print(\"your Registration Successful!\")   \n",
        "     #---------------------------------------------------------------\n",
        "     \n",
        "\n",
        "    with open('email_pwd.csv', 'a') as csvfile:\n",
        "     fieldnames = ['E-MAIL', 'PASSWORD']\n",
        "     writer = csv.DictWriter(csvfile, fieldnames=fieldnames)\n",
        "    \n",
        "     writer.writeheader()\n",
        "     writer.writerow({'E-MAIL':email_input, 'PASSWORD': password_input})   \n",
        "\n",
        "#=====================================================================\n",
        "\n",
        "import csv\n",
        "def Login():\n",
        "  email_input=input(\"enter your email id: \")\n",
        "  password_input=input(\"enter your password: \")\n",
        "  a=open('email_pwd.csv', \"r\")\n",
        "  csv_file = csv.reader(a)\n",
        "  next(csv_file)\n",
        "  found=0\n",
        "  for row in csv_file:\n",
        "        if email_input == row[0] and password_input==row[1]:\n",
        "            print(\"\\033[1;32m Congratulation! Login successful\")\n",
        "            found=1\n",
        "  a.close()          \n",
        "  if found==0:\n",
        "      print(\"Login is not sucessful,Your email ID or password is incorrect\")\n",
        "      ForgotPwd(email_input)\n",
        "#==============================================================================\n",
        "\n",
        "def ForgotPwd(email_input):   \n",
        "  A=input(\"Enter a if you are not registerd, wants to register and\\n\\tb if you forgot password, wants to retrive old password\\n\\tc if you want to enter new password\\n\")    \n",
        "  csv_file = csv.reader(open('email_pwd.csv', \"r\"))\n",
        "  if A=='a':\n",
        "        Registration()\n",
        "  elif A=='b': \n",
        "      valid_id=0\n",
        "      for row in csv_file:\n",
        "         if email_input in row:\n",
        "          if email_input == row[0]: \n",
        "            print(f\"your Old Password is {row[1]}\")\n",
        "            valid_id=1\n",
        "      if valid_id==0: \n",
        "           print(\"Invalid Email Id\")\n",
        "           welcome() \n",
        "          \n",
        "  elif A=='c': \n",
        "      while True:\n",
        "              password_input=input(\"Enter your New Password:\\n \\tpassword length must be 5-16 \\n \\tMust have minimum one special character,digit,uppercase, lowercase character \\n\")\n",
        "              reg = \"^(?=.*[a-z])(?=.*[A-Z])(?=.*\\d)(?=.*[@$!%*#?&])[A-Za-z\\d@$!#%*?&]{5,16}$\"\n",
        "              if re.fullmatch(reg,password_input):\n",
        "                print(\" New Password Created\")\n",
        "                \n",
        "                with open('email_pwd.csv', 'r') as csv_file,\\\n",
        "                  open('email_pwdcsv.tmp', 'w') as csv_temp:\n",
        "                  exchReader = csv.reader(csv_file)\n",
        "                  exchWriter = csv.writer(csv_temp)\n",
        "                  for row in exchReader:\n",
        "                     if email_input == row[0]: \n",
        "                       row[1]=password_input\n",
        "                     exchWriter.writerow(row)\n",
        "                shutil.move('email_pwdcsv.tmp', 'email_pwd.csv')   \n",
        "                    \n",
        "                break\n",
        "              else:\n",
        "                  print(\"not valid, please enter a valid password\")\n",
        "                  continue                \n",
        "\n",
        "  else: \n",
        "    print(\"you have enterted a not valid number \")  \n",
        "    ForgotPwd(email_input)       \n",
        "    \n",
        "\n",
        "    \n",
        "\n",
        "#=====================================================================  \n",
        "\n",
        "\n",
        "def welcome():\n",
        "  start=int(input(\"enter 1 for Registration \\n \\t2 for login: \\n\"))\n",
        "  if start==1:\n",
        "    Registration()\n",
        "  elif start==2:\n",
        "      Login()\n",
        "  else:\n",
        "    print(\"Invalid number, please enter the valid number\")  \n",
        "    welcome()\n",
        "welcome()  \n"
      ]
    },
    {
      "cell_type": "code",
      "source": [
        "with open('email_pwd.csv', 'r') as f_in:\n",
        "  exchReader = csv.reader(f_in)\n",
        "  for row in exchReader:\n",
        "         email_input=\"Ashwini@gmail.com\"\n",
        "         if email_input in row:  \n",
        "            print(\"valid email id\")\n",
        "         else:print(\"not valid\")\n"
      ],
      "metadata": {
        "colab": {
          "base_uri": "https://localhost:8080/"
        },
        "id": "bRetPDTRJ8YZ",
        "outputId": "58afdf53-05fd-4c93-a760-791949ce820e"
      },
      "execution_count": null,
      "outputs": [
        {
          "output_type": "stream",
          "name": "stdout",
          "text": [
            "valid email id\n",
            "not valid\n"
          ]
        }
      ]
    }
  ],
  "metadata": {
    "colab": {
      "provenance": [],
      "authorship_tag": "ABX9TyNgW+QD60/stTOhna2g7M8+",
      "include_colab_link": true
    },
    "kernelspec": {
      "display_name": "Python 3",
      "name": "python3"
    },
    "language_info": {
      "name": "python"
    }
  },
  "nbformat": 4,
  "nbformat_minor": 0
}